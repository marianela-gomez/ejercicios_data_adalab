{
 "cells": [
  {
   "cell_type": "markdown",
   "metadata": {},
   "source": [
    "# EJERCICO CLASES"
   ]
  },
  {
   "cell_type": "code",
   "execution_count": null,
   "metadata": {},
   "outputs": [],
   "source": [
    "class Vehiculo:\n",
    "    def __init__(self, marca, modelo, año):\n",
    "        self.marca = marca\n",
    "        self.modelo = modelo\n",
    "        self.año = año\n",
    "        self.velocidad_actual = 0\n",
    "        self.encendido = False\n",
    "        pass\n",
    "    \n",
    "    def informacion(self):\n",
    "        return f\"Ese vehículo es un {self.marca} {self.modelo} del año {self.año}\"\n",
    "    \n",
    "    def encender(self):\n",
    "        if not self.encendido:\n",
    "            self.encendido = True\n",
    "            return \"Hemos encendido el coche\"\n",
    "        return \"El coche ya está encendido\"\n",
    "    \n",
    "    def apagar(self):\n",
    "        if self.encendido == True:\n",
    "            self.encendido = False\n",
    "            self.velocidad_actual = 0\n",
    "            return f\"Tu coche se ha apagado, por lo que la velocidad es {self.velocidad_actual}\"\n",
    "        else:\n",
    "            return \"Ya está apagado\"\n",
    "        \n",
    "    def acelerar(self, velocidad):\n",
    "        if self.encendido == True:\n",
    "            self.velocidad_actual = velocidad + 20\n",
    "            return f\"Vas a {self.velocidad_actual}k/h\"\n",
    "        else:\n",
    "            return \"Tienes el coche apagado, amiga, ¿cómo pretendes acelerar?\"\n",
    "    \n",
    "    def frenar(self,velocidad):\n",
    "        if self.encendido == True:\n",
    "            self.velocidad_actual = velocidad -50\n",
    "            if self.velocidad_actual < 0:\n",
    "                self.velocidad_actual = 0\n",
    "            return f\"Vas a {self.velocidad_actual}k/h\"\n",
    "        else:\n",
    "            return \"Pero que tienes el cochito apagaaaaooo!!\"\n",
    "        \n",
    "    def detener(self):\n",
    "        if self.encendido:\n",
    "            while self.velocidad_actual > 0:\n",
    "                self.velocidad_actual -= 5\n",
    "                print(f\"Vamos a {self.velocidad_actual} k/h\")\n",
    "            else:\n",
    "                return \"El coche se ha parado\" \n",
    "            \n",
    "class Coche(Vehiculo):\n",
    "    def __init__(self, marca, modelo, año, combustible):\n",
    "        super().__init__(marca, modelo, año)\n",
    "        self.combustible = combustible\n",
    "\n",
    "    def informacion(self):\n",
    "        return f\"Coche que te interesa es un {self.marca} {self.modelo} del año {self.año} y con motor {self.combustible}\""
   ]
  },
  {
   "cell_type": "code",
   "execution_count": null,
   "metadata": {},
   "outputs": [],
   "source": [
    "cochito = Coche(\"Seat\", \"Panda\", 1997, \"Diesel\")\n",
    "print(cochito.informacion())\n",
    "print(cochito.encender())\n",
    "print(cochito.acelerar(120))\n",
    "print(cochito.frenar(80))\n",
    "print(cochito.detener())"
   ]
  }
 ],
 "metadata": {
  "language_info": {
   "name": "python"
  }
 },
 "nbformat": 4,
 "nbformat_minor": 2
}
