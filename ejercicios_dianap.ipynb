{
 "cells": [
  {
   "cell_type": "markdown",
   "metadata": {},
   "source": [
    "# EJERCICIO CLASES"
   ]
  },
  {
   "cell_type": "code",
   "execution_count": 3,
   "metadata": {},
   "outputs": [],
   "source": [
    "class Vehiculo:\n",
    "    def __init__(self, marca, modelo, año):\n",
    "        self.marca = marca\n",
    "        self.modelo = modelo\n",
    "        self.año = año\n",
    "        self.velocidad_actual = 0\n",
    "        self.encendido = False\n",
    "        pass\n",
    "    \n",
    "    def informacion(self):\n",
    "        return f\"Ese vehículo es un {self.marca} {self.modelo} del año {self.año}\"\n",
    "    \n",
    "    def encender(self):\n",
    "        if not self.encendido:\n",
    "            self.encendido = True\n",
    "            return \"Hemos encendido el coche\"\n",
    "        return \"El coche ya está encendido\"\n",
    "    \n",
    "    def apagar(self):\n",
    "        if self.encendido == True:\n",
    "            self.encendido = False\n",
    "            self.velocidad_actual = 0\n",
    "            return f\"Tu coche se ha apagado, por lo que la velocidad es {self.velocidad_actual}\"\n",
    "        else:\n",
    "            return \"Ya está apagado\"\n",
    "        \n",
    "    def acelerar(self, velocidad):\n",
    "        if self.encendido == True:\n",
    "            self.velocidad_actual = velocidad + 20\n",
    "            return f\"Vas a {self.velocidad_actual}k/h\"\n",
    "        else:\n",
    "            return \"Tienes el coche apagado, amiga, ¿cómo pretendes acelerar?\"\n",
    "    \n",
    "    def frenar(self,velocidad):\n",
    "        if self.encendido == True:\n",
    "            self.velocidad_actual = velocidad -50\n",
    "            if self.velocidad_actual < 0:\n",
    "                self.velocidad_actual = 0\n",
    "            return f\"Vas a {self.velocidad_actual}k/h\"\n",
    "        else:\n",
    "            return \"Pero que tienes el cochito apagaaaaooo!!\"\n",
    "        \n",
    "    def detener(self):\n",
    "        if self.encendido:\n",
    "            while self.velocidad_actual > 0:\n",
    "                self.velocidad_actual -= 5\n",
    "                self.encendido = False\n",
    "                print(f\"Vamos a {self.velocidad_actual} k/h\")\n",
    "            else:\n",
    "                return \"El coche se ha parado\" \n",
    "        else:\n",
    "            return \"El coche está parado\"\n",
    "            \n",
    "class Coche(Vehiculo):\n",
    "    def __init__(self, marca, modelo, año, combustible):\n",
    "        super().__init__(marca, modelo, año)\n",
    "        self.combustible = combustible\n",
    "\n",
    "    def informacion(self):\n",
    "        return f\"El coche que te interesa es un {self.marca} {self.modelo} del año {self.año} y con motor {self.combustible}\"\n",
    "    \n",
    "         \n",
    "        "
   ]
  },
  {
   "cell_type": "code",
   "execution_count": 8,
   "metadata": {},
   "outputs": [
    {
     "name": "stdout",
     "output_type": "stream",
     "text": [
      "El coche que te interesa es un Seat Panda del año 1997 y con motor Diesel\n",
      "Hemos encendido el coche\n",
      "Vas a 140k/h\n",
      "Vas a 30k/h\n",
      "Vamos a 25 k/h\n",
      "Vamos a 20 k/h\n",
      "Vamos a 15 k/h\n",
      "Vamos a 10 k/h\n",
      "Vamos a 5 k/h\n",
      "Vamos a 0 k/h\n",
      "El coche se ha parado\n",
      "Ya está apagado\n"
     ]
    }
   ],
   "source": [
    "cochito = Coche(\"Seat\", \"Panda\", 1997, \"Diesel\")\n",
    "print(cochito.informacion())\n",
    "print(cochito.encender())\n",
    "print(cochito.acelerar(120))\n",
    "print(cochito.frenar(80))\n",
    "print(cochito.detener())\n",
    "print(cochito.apagar())"
   ]
  },
  {
   "cell_type": "code",
   "execution_count": 4,
   "metadata": {},
   "outputs": [
    {
     "name": "stdout",
     "output_type": "stream",
     "text": [
      "El coche que te interesa es un Toyosa Yaris del año 2021 y con motor gasolina\n",
      "Hemos encendido el coche\n",
      "Vas a 170k/h\n",
      "Vas a 110k/h\n",
      "Vamos a 105 k/h\n",
      "Vamos a 100 k/h\n",
      "Vamos a 95 k/h\n",
      "Vamos a 90 k/h\n",
      "Vamos a 85 k/h\n",
      "Vamos a 80 k/h\n",
      "Vamos a 75 k/h\n",
      "Vamos a 70 k/h\n",
      "Vamos a 65 k/h\n",
      "Vamos a 60 k/h\n",
      "Vamos a 55 k/h\n",
      "Vamos a 50 k/h\n",
      "Vamos a 45 k/h\n",
      "Vamos a 40 k/h\n",
      "Vamos a 35 k/h\n",
      "Vamos a 30 k/h\n",
      "Vamos a 25 k/h\n",
      "Vamos a 20 k/h\n",
      "Vamos a 15 k/h\n",
      "Vamos a 10 k/h\n",
      "Vamos a 5 k/h\n",
      "Vamos a 0 k/h\n",
      "El coche se ha parado\n",
      "Ya está apagado\n"
     ]
    }
   ],
   "source": [
    "cochito1 = Coche(\"Toyosa\", \"Yaris\", 2021, \"gasolina\")\n",
    "print(cochito1.informacion())\n",
    "print(cochito1.encender())\n",
    "print(cochito1.acelerar(150))\n",
    "print(cochito1.frenar(160))\n",
    "print(cochito1.detener())\n",
    "print(cochito1.apagar())\n"
   ]
  }
 ],
 "metadata": {
  "kernelspec": {
   "display_name": "base",
   "language": "python",
   "name": "python3"
  },
  "language_info": {
   "codemirror_mode": {
    "name": "ipython",
    "version": 3
   },
   "file_extension": ".py",
   "mimetype": "text/x-python",
   "name": "python",
   "nbconvert_exporter": "python",
   "pygments_lexer": "ipython3",
   "version": "3.12.7"
  }
 },
 "nbformat": 4,
 "nbformat_minor": 2
}
