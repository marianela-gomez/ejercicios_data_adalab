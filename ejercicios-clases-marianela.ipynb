{
 "cells": [
  {
   "cell_type": "markdown",
   "metadata": {},
   "source": [
    "# Ejercicios clases"
   ]
  },
  {
   "cell_type": "markdown",
   "metadata": {},
   "source": [
    "Crea una clase llamada Vehiculo que representa un vehículo genérico. Esta clase tiene la capacidad de realizar acciones relacionadas con el vehículo, como encenderlo, apagarlo, acelerar, frenar y detenerlo gradualmente. Cada método en la clase tiene una descripción específica de su función. A continuación, se detallan los aspectos clave de esta clase:\n",
    "\n",
    "**Atributos**:\n",
    "\n",
    "- marca: Una cadena que representa la marca del vehículo.\n",
    "\n",
    " - modelo: Una cadena que representa el modelo del vehículo.\n",
    "\n",
    "- año: Un número entero que representa el año de fabricación del vehículo.\n",
    "\n",
    "- velocidad_actual: Un número entero que representa la velocidad actual del vehículo en km/h.\n",
    "\n",
    "- encendido: Un valor booleano que indica si el vehículo está encendido (True) o apagado (False).\n",
    "\n",
    "**Métodos**:\n",
    "\n",
    "- `__init__`(self, marca, modelo, año): El constructor de la clase que inicializa los atributos del vehículo, incluyendo la marca, el modelo, el año, la velocidad actual (inicialmente 0) y el estado del encendido (inicialmente apagado).\n",
    "\n",
    "- informacion(self): Un método que devuelve una cadena de texto con la información básica del vehículo, incluyendo la marca, el modelo y el año.\n",
    "\n",
    "- encender(self): Un método que enciende el vehículo si está apagado y devuelve un mensaje de confirmación. Si el vehículo ya está encendido, devuelve un mensaje indicando que ya está en funcionamiento.\n",
    "\n",
    "- apagar(self): Un método que apaga el vehículo si está encendido, establece la velocidad actual en 0 y devuelve un mensaje de confirmación. Si el vehículo ya está apagado, devuelve un mensaje indicando que ya está apagado.\n",
    "\n",
    "- acelerar(self, velocidad): Un método que aumenta la velocidad actual del vehículo según la cantidad de velocidad proporcionada como argumento. Si el vehículo está encendido, aumenta la velocidad y devuelve un mensaje con la nueva velocidad actual. Si el vehículo está apagado, devuelve un mensaje indicando que no se puede acelerar.\n",
    "\n",
    "- frenar(self, velocidad): Un método que reduce la velocidad actual del vehículo según la cantidad de velocidad proporcionada como argumento. Si el vehículo está encendido, reduce la velocidad y devuelve un mensaje con la nueva velocidad actual. Si el vehículo está apagado, devuelve un mensaje indicando que no se puede frenar.\n",
    "\n",
    "- detener(self): Un método que detiene gradualmente el vehículo reduciendo la velocidad en incrementos de 5 km/h hasta que alcance una velocidad de 0 km/h. Si el vehículo está encendido, detiene el vehículo y devuelve un mensaje de confirmación. Si el vehículo está apagado, devuelve un mensaje indicando que no se puede detener.\n",
    "\n",
    "Crea la subclase Coche que hereda de la clase base Vehiculo y representa un coche específico. Además de los atributos y métodos heredados, la clase Coche tiene un atributo adicional:\n",
    "\n",
    "**Atributos**:\n",
    "\n",
    " - combustible: Una cadena que representa el tipo de combustible que utiliza el coche.\n",
    "\n",
    "**Métodos**:\n",
    "\n",
    "- `__init__`(self, marca, modelo, año, combustible): Constructor que inicializa los atributos de la clase base y el atributo específico del coche.\n",
    "\n",
    "- informacion(self): Devuelve una cadena con la información del coche, incluyendo la marca, el modelo, el año y el tipo de combustible."
   ]
  },
  {
   "cell_type": "code",
   "execution_count": 1,
   "metadata": {},
   "outputs": [],
   "source": [
    "class Vehiculo:\n",
    "    def __init__(self, marca, modelo, año, velocidad_actual, encendido):\n",
    "        \n",
    "        self.marca = marca\n",
    "        \n",
    "        self.modelo = modelo\n",
    "        \n",
    "        self.año = año\n",
    "        \n",
    "        self.velocidad_actual = velocidad_actual\n",
    "        \n",
    "        self.encendido = encendido\n",
    "    \n",
    "    def informacion(self):\n",
    "        \n",
    "        return self.marca, self.modelo, self.año\n",
    "    \n",
    "    def encender(self):\n",
    "        \n",
    "        if self.encendido == False:\n",
    "            self.encendido = True\n",
    "            return f\"El vehículo se ha encendido\"\n",
    "        else:\n",
    "            return f\"El vehículo ya estaba encendido\"\n",
    "        \n",
    "    def apagar(self):\n",
    "        \n",
    "        if self.encendido == True:\n",
    "            self.encendido = False \n",
    "            self.velocidad_actual = 0 \n",
    "            return f\"Motor apagado\"\n",
    "        else:\n",
    "            return f\"El motor ya estaba apagado\"\n",
    "        \n",
    "    def acelerar(self, velocidad):\n",
    "        \n",
    "        if self.encendido == True:\n",
    "            self.velocidad_actual += velocidad\n",
    "            return f\"La velocidad del vehículo ahora es {self.velocidad_actual}\"\n",
    "        else: \n",
    "            return f\"Vehículo apagado. No se puede acelerar\"\n",
    "        \n",
    "    def frenar(self, velocidad):\n",
    "        \n",
    "        if self.encendido == True:\n",
    "            self.velocidad_actual -= velocidad\n",
    "            return f\"La velocidad del vehículo ahora es {self.velocidad_actual}\"\n",
    "        else: \n",
    "            return f\"Vehículo apagado. No se puede frenar\"\n",
    "        \n",
    "        \n",
    "    def detener(self):\n",
    "        \n",
    "        if self.encendido == True:\n",
    "            while True:\n",
    "                self.velocidad_actual -= 5\n",
    "                print(f\"Velocidad actual {self.velocidad_actual}\")\n",
    "                if self.velocidad_actual == 0:\n",
    "                    break\n",
    "            return f\"Vehículo detenido\"\n",
    "        else: \n",
    "            return f\"El vehículo ya estaba detenido\"\n",
    "        \n",
    "    "
   ]
  },
  {
   "cell_type": "code",
   "execution_count": 2,
   "metadata": {},
   "outputs": [],
   "source": [
    "mi_coche = Vehiculo(\"Seat\", \"Panda\", 1997, 60, True)"
   ]
  },
  {
   "cell_type": "code",
   "execution_count": 3,
   "metadata": {},
   "outputs": [
    {
     "data": {
      "text/plain": [
       "('Seat', 'Panda', 1997)"
      ]
     },
     "execution_count": 3,
     "metadata": {},
     "output_type": "execute_result"
    }
   ],
   "source": [
    "mi_coche.informacion()"
   ]
  },
  {
   "cell_type": "code",
   "execution_count": 4,
   "metadata": {},
   "outputs": [
    {
     "data": {
      "text/plain": [
       "'El vehículo ya estaba encendido'"
      ]
     },
     "execution_count": 4,
     "metadata": {},
     "output_type": "execute_result"
    }
   ],
   "source": [
    "mi_coche.encender()"
   ]
  },
  {
   "cell_type": "code",
   "execution_count": 5,
   "metadata": {},
   "outputs": [
    {
     "data": {
      "text/plain": [
       "'La velocidad del vehículo ahora es 140'"
      ]
     },
     "execution_count": 5,
     "metadata": {},
     "output_type": "execute_result"
    }
   ],
   "source": [
    "mi_coche.acelerar(80)"
   ]
  },
  {
   "cell_type": "code",
   "execution_count": 6,
   "metadata": {},
   "outputs": [
    {
     "data": {
      "text/plain": [
       "'La velocidad del vehículo ahora es 120'"
      ]
     },
     "execution_count": 6,
     "metadata": {},
     "output_type": "execute_result"
    }
   ],
   "source": [
    "mi_coche.frenar(20)"
   ]
  },
  {
   "cell_type": "code",
   "execution_count": 7,
   "metadata": {},
   "outputs": [
    {
     "name": "stdout",
     "output_type": "stream",
     "text": [
      "Velocidad actual 115\n",
      "Velocidad actual 110\n",
      "Velocidad actual 105\n",
      "Velocidad actual 100\n",
      "Velocidad actual 95\n",
      "Velocidad actual 90\n",
      "Velocidad actual 85\n",
      "Velocidad actual 80\n",
      "Velocidad actual 75\n",
      "Velocidad actual 70\n",
      "Velocidad actual 65\n",
      "Velocidad actual 60\n",
      "Velocidad actual 55\n",
      "Velocidad actual 50\n",
      "Velocidad actual 45\n",
      "Velocidad actual 40\n",
      "Velocidad actual 35\n",
      "Velocidad actual 30\n",
      "Velocidad actual 25\n",
      "Velocidad actual 20\n",
      "Velocidad actual 15\n",
      "Velocidad actual 10\n",
      "Velocidad actual 5\n",
      "Velocidad actual 0\n"
     ]
    },
    {
     "data": {
      "text/plain": [
       "'Vehículo detenido'"
      ]
     },
     "execution_count": 7,
     "metadata": {},
     "output_type": "execute_result"
    }
   ],
   "source": [
    "mi_coche.detener()"
   ]
  },
  {
   "cell_type": "code",
   "execution_count": 8,
   "metadata": {},
   "outputs": [
    {
     "data": {
      "text/plain": [
       "'Motor apagado'"
      ]
     },
     "execution_count": 8,
     "metadata": {},
     "output_type": "execute_result"
    }
   ],
   "source": [
    "mi_coche.apagar()"
   ]
  },
  {
   "cell_type": "markdown",
   "metadata": {},
   "source": [
    "Crea la subclase Coche que hereda de la clase base Vehiculo y representa un coche específico. Además de los atributos y métodos heredados, la clase Coche tiene un atributo adicional:\n",
    "\n",
    "**Atributos**:\n",
    "\n",
    "- combustible: Una cadena que representa el tipo de combustible que utiliza el coche.\n",
    "\n",
    "**Métodos**:\n",
    "\n",
    "- `__init__`(self, marca, modelo, año, combustible): Constructor que inicializa los atributos de la clase base y el atributo específico del coche.\n",
    "\n",
    "- informacion(self): Devuelve una cadena con la información del coche, incluyendo la marca, el modelo, el año y el tipo de combustible."
   ]
  },
  {
   "cell_type": "code",
   "execution_count": 11,
   "metadata": {},
   "outputs": [],
   "source": [
    "class Coche(Vehiculo):\n",
    "    \n",
    "    def __init__(self, marca, modelo, año, velocidad_actual, encendido, combustible):\n",
    "        \n",
    "        super().__init__(marca, modelo, año, velocidad_actual, encendido)\n",
    "        \n",
    "        self.combustible = combustible\n",
    "        \n",
    "    def informacion(self):\n",
    "        return f\"El coche es un {self.marca} {self.modelo} del {self.año} y funciona con {self.combustible}\""
   ]
  },
  {
   "cell_type": "code",
   "execution_count": 12,
   "metadata": {},
   "outputs": [],
   "source": [
    "nuevo_coche = Coche(\"Toyota\", \"Yaris Cross\", 2023, 50, True, \"Gasolina\")"
   ]
  },
  {
   "cell_type": "code",
   "execution_count": 14,
   "metadata": {},
   "outputs": [
    {
     "data": {
      "text/plain": [
       "'Gasolina'"
      ]
     },
     "execution_count": 14,
     "metadata": {},
     "output_type": "execute_result"
    }
   ],
   "source": [
    "nuevo_coche.combustible"
   ]
  },
  {
   "cell_type": "code",
   "execution_count": 15,
   "metadata": {},
   "outputs": [
    {
     "data": {
      "text/plain": [
       "'El coche es un Toyota Yaris Cross del 2023 y funciona con Gasolina'"
      ]
     },
     "execution_count": 15,
     "metadata": {},
     "output_type": "execute_result"
    }
   ],
   "source": [
    "nuevo_coche.informacion()"
   ]
  }
 ],
 "metadata": {
  "kernelspec": {
   "display_name": "base",
   "language": "python",
   "name": "python3"
  },
  "language_info": {
   "codemirror_mode": {
    "name": "ipython",
    "version": 3
   },
   "file_extension": ".py",
   "mimetype": "text/x-python",
   "name": "python",
   "nbconvert_exporter": "python",
   "pygments_lexer": "ipython3",
   "version": "3.12.7"
  }
 },
 "nbformat": 4,
 "nbformat_minor": 2
}
