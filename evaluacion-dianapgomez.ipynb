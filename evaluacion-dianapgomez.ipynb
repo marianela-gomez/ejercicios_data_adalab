{
 "cells": [
  {
   "cell_type": "markdown",
   "metadata": {},
   "source": [
    "# Evaluación Final Módulo 1 Data Analytics\n"
   ]
  },
  {
   "cell_type": "markdown",
   "metadata": {},
   "source": [
    "Diana P. Gómez"
   ]
  },
  {
   "cell_type": "code",
   "execution_count": 8,
   "metadata": {},
   "outputs": [],
   "source": [
    "\n",
    "class TiendaOnline:\n",
    "    def __init__(self):\n",
    "#Definiendo los atributos de la tienda online\n",
    "        self.inventario = []\n",
    "        self.ventas_totales = float(0)\n",
    "        self.clientes = {}\n",
    "        self.carrito = []\n",
    "        self.venta_carrito = 0\n",
    "\n",
    "#Definiendo los método de la tienda\n",
    "    def agregar_producto(self, nombre, precio, cantidad): # ← parámetros de los productos \n",
    "        \n",
    "        for producto in self.inventario:\n",
    "            if producto[\"Nombre\"] == nombre: # ← Buscamos el nombre concreto de la key dentro del bucle y lo comparamos con el parámetro introducido\n",
    "                producto[\"Cantidad\"] += cantidad # ← Si el producto está en el inventario se actualiza la cantidad\n",
    "               \n",
    "                print(f\"El producto {nombre} ya está en el inventario. Se ha actualizado la cantidad, se han añadido {cantidad} unidades.\")  \n",
    "              \n",
    "                return\n",
    "        else:\n",
    "            self.inventario.append({\"Nombre\": nombre, \"Precio\": precio, \"Cantidad\": cantidad}) # ← diccionario que almacenará los productos\n",
    "            \n",
    "            print(f\"El producto {nombre} no estaba en el inventario, ha sido agregado. Hay {cantidad} unidades.\") # ← Si el producto no está en el inventario lo agregamos\n",
    "           \n",
    "            return # ← El diccionario ha sido agregado al atributo y marcamos un return para que se quede grabado  \n",
    "\n",
    "\n",
    "    def ver_inventario(self):\n",
    "\n",
    "        print(\"      -----------CATÁLOGO-----------\")\n",
    "\n",
    "        for producto in self.inventario:\n",
    "    \n",
    "            print(f\"{producto[\"Nombre\"]} → {producto[\"Precio\"]}€. {producto[\"Cantidad\"]} unidades disponibles.\") # ← Comprobar el inventario\n",
    "        \n",
    "        print(\"........................................\\n\")\n",
    "       \n",
    "        return \n",
    "    \n",
    "\n",
    "    def buscar_producto(self,nombre):\n",
    "         \n",
    "        for producto in self.inventario: \n",
    "            if producto[\"Nombre\"] ==nombre: # ← Buscamos el nombre concreto de la key dentro del bucle y lo comparamos con el parámetro introducido\n",
    "               \n",
    "                print(producto) # ← Devuelve el producto que estamos buscando en el inventario\n",
    "                \n",
    "                return # ← Rompemos el bucle para que no siga iterando\n",
    "            \n",
    "            \n",
    "               \n",
    "        print(f\"El producto {nombre} no está en la tienda, agrégalo para que conste en la búsqueda.\") # ← Si no está nos invita a agregarlo \n",
    "            \n",
    "                   \n",
    " \n",
    "    def actualizar_stock(self, nombre,cantidad):\n",
    "\n",
    "        for producto in self.inventario:\n",
    "            if producto[\"Nombre\"] == nombre: # ← Buscamos el nombre concreto de la key dentro del bucle y lo comparamos con el parámetro introducido\n",
    "                producto[\"Cantidad\"] += cantidad # ← Si el parámetro está en el atributo comprobamos su key \"Cantidad\" y le sumamos la nueva cantidad introducida por parámetro\n",
    "                \n",
    "                print(f\"El producto {nombre} se ha actualizado con {cantidad} unidades, ahora hay {producto[\"Cantidad\"]} unidades.\")\n",
    "                \n",
    "                return  # ← La cantidad ha sido modificada en el diccionario y marcamos un return para que se quede grabado en el atributo\n",
    "        \n",
    "        print(f\"El producto {nombre} no está en la tienda, agrégalo para poder actualizarlo.\") # ← Si el producto no está en el inventario te invita a agregarlo \n",
    "            \n",
    "   \n",
    "    def eliminar_producto(self,nombre):\n",
    "\n",
    "        for producto in self.inventario:\n",
    "            if producto[\"Nombre\"] == nombre: # ← Buscamos el nombre concreto de la key dentro del bucle y lo comparamos con el parámetro introducido\n",
    "                self.inventario.remove(producto) # ← Borramos el elemento para que se elimine no solo el nombre del producto, si no el diccionario completo\n",
    "                \n",
    "                print(f\"El producto {nombre} ha sido eliminado del inventario.\")\n",
    "                \n",
    "                return # ← El inventario ha sido modificado en el diccionario y marcamos un return para que se quede grabado en el atributo\n",
    "    \n",
    "        print(f\"El producto {nombre} no está en el inventario.\")\n",
    "                \n",
    "\n",
    "    def calcular_valor_inventario(self):\n",
    "        \n",
    "        total_inventario = 0 # ← Creamos una variable con un valor 0 en el que se sumará el total del inventario\n",
    "        \n",
    "        for producto in self.inventario:\n",
    "            total_producto = producto[\"Cantidad\"] * producto[\"Precio\"] # ← Creamos una variable para calcular el total del producto multiplicando cantidad por precio\n",
    "            \n",
    "            print(f\"Tienes {producto[\"Cantidad\"]} unidades de {producto[\"Nombre\"]} a {producto[\"Precio\"]}€, por lo que suma {total_producto}€.\") # ← Para mayor visibilidad nos dice cuánto asciende el total de cada ítem\n",
    "            \n",
    "            total_inventario += total_producto # ← Sumamos todos los totales y los grabamos en el valor total_inventario\n",
    "        \n",
    "        print(f\"El total del inventario es {total_inventario}€.\")\n",
    "        \n",
    "        return # ← Graba el inventario\n",
    "\n",
    "\n",
    "    def agregar_cliente(self, nombre, mail): #← Agregamos clientes con sumail\n",
    "\n",
    "        if nombre in self.clientes: #← si el nombre ya está en la lista nos avisa\n",
    "            print(f\"{nombre} ya está en la base de datos de clientes.\")\n",
    "\n",
    "        else:\n",
    "            self.clientes[nombre] = mail #← Si el nombre no está en la lista, creamos un nuevo clve:valor\n",
    "            print(f\"El cliente {nombre} ha sido incluido a nuestra base de datos junto con su mail {mail}.\")\n",
    "\n",
    "\n",
    "    def ver_clientes(self): #← Ver lista de clientes\n",
    "\n",
    "        print(\"          -----------CLIENTES-----------\")\n",
    "\n",
    "        for clientes in self.clientes.items():\n",
    "\n",
    "            print(f\"Cliente: {clientes}\")\n",
    "\n",
    "    \n",
    "    def ver_carrito(self): #← creamos un método para ver el carrito, nos ayudará en el siguiente método\n",
    "\n",
    "        print(\"      -----------CARRITO-----------\")\n",
    "\n",
    "        self.venta_carrito = 0 # ← Lo reiniciamos antes de volver a sumar\n",
    "\n",
    "        for item in self.carrito:\n",
    "            subtotal =  item[\"Cantidad\"]*item[\"Precio\"] # ← Se calcula el subtotal por producto que hemos adquirido\n",
    "            self.venta_carrito += subtotal # ← se calcula el total de todos los productos\n",
    "\n",
    "            print(f\"Tienes {item[\"Cantidad\"]} unidades de {item[\"Nombre\"]}, suma {subtotal}€.\")\n",
    "\n",
    "        print(f\"Total a pagar {self.venta_carrito}€.\")\n",
    "\n",
    "\n",
    "    def realizar_compra(self):\n",
    "        \n",
    "        self.ver_inventario()\n",
    "\n",
    "        while True: #← Bucle que permite al comprador elegir varios ítems\n",
    "            \n",
    "            nombre_producto = input(\"¿Qué producto quieres comprar? (Escribe salir para terminar la compra)\").strip().lower() #← input que introduce el ítem de compra o rompe el bucle\n",
    "            \n",
    "            if nombre_producto == \"salir\":\n",
    "                \n",
    "                print(\"\\n*********************************************\")\n",
    "                \n",
    "                self.ver_carrito()\n",
    "                \n",
    "                print(\"\\n*********************************************\\n\")\n",
    "                \n",
    "                print(f\"Gracias por tu compra.\") #← Si decidimos salir se para el bucle y nos muestra qué hay en el carrito\n",
    "                \n",
    "                break\n",
    "    \n",
    "            else:\n",
    "                \n",
    "                try: #← Excepción para verificar que el input de la cantidad de unidades es correcto\n",
    "                    \n",
    "                    cantidad_producto = int(input(\"¿Cuántas unidades quieres comprar?\")) #← Si introducimos un ítem seguidamente nos pregunta cuántas unidades queremos\n",
    "\n",
    "                except ValueError: # ← En el caso de que el input no sea un integer\n",
    "                    \n",
    "                    print(\"*Ese caracter no es válido, por favor introduce un número entero*\")\n",
    "                    \n",
    "                    continue # ← Vuelve a repetir el proceso\n",
    "            \n",
    "            producto_disponible = False # ← Flag para controlar que el input corresponde con un término concreto del inventario. Se inicia con un false porque se asume que el producto no está en el inventario\n",
    "\n",
    "            for producto in self.inventario: #← Bucle for que itera por el inventario\n",
    "                if producto[\"Nombre\"] == nombre_producto: #← Si el nombre introducido coincide con un nombre en el inventario...                \n",
    "                    producto_disponible = True # marcamos esta flag como True\n",
    "                    if cantidad_producto > producto[\"Cantidad\"]: # ← Si no hay suficiente cantidad del ítem requerido, saldrá un aviso de stock insuficiente\n",
    "                       \n",
    "                        print(\"*No tenemos suficiente stock de este producto*\")\n",
    "                      \n",
    "                        break # Y se para aquí\n",
    "                    \n",
    "                    else:     # Si las condiciones de que el producto coincide y hay stock, se ejecuta este else\n",
    "                        \n",
    "                        producto[\"Cantidad\"] -= cantidad_producto #← Si la cantidad marcada es menor que la que hay en stock se restará del stock\n",
    "            \n",
    "                        for item in self.carrito: # ← Si el ítem seleccionado está en el carrito...\n",
    "                            if item[\"Nombre\"] == nombre_producto:\n",
    "                                item[\"Cantidad\"] += cantidad_producto # ← ...se actualiza la cantidad de producto en el carrito.\n",
    "                                \n",
    "                                print(f\"El producto {item[\"Nombre\"]} ya estaba en el carrito, hemos actualizado la cantidad a {item[\"Cantidad\"]} unidades.\") \n",
    "                                \n",
    "                                break\n",
    "                        \n",
    "                        else: # ← Si el ítem seleccionado NO está en el carrito...\n",
    "                            \n",
    "                            self.carrito.append({\"Nombre\": nombre_producto, \"Precio\": producto[\"Precio\"], \"Cantidad\": cantidad_producto}) # ← ...lo añadimos mediante un diccionario con los parámetros de nombre y cantidad demandadas en el método realizar_compra y recogemos el precio del diccionario de inventario.\n",
    "                            \n",
    "                            print(f\"Has añadido {cantidad_producto} de {nombre_producto} al carrito.\")\n",
    "                \n",
    "            else:\n",
    "                \n",
    "                if not producto_disponible: # ← Si el producto introducido en el input no está disponible o el input es erróneo nos imprime un aviso y nos da otra oportunidad\n",
    "                    \n",
    "                    print(f\"*El producto {nombre_producto} no está disponible o es erróneo*\")\n",
    "                    \n",
    "                    continue # ← Si el producto no está en el inventario vuelve a meternos en el bucle para que introduzcamos un producto válido\n",
    "        \n",
    "    def proceso_pago(self): # ← Método de pago\n",
    "\n",
    "        self.ver_carrito() # ← Se nos muestra el carrito con todos los ítems\n",
    "        print(\"\\n*********************************************\\n\")\n",
    "      \n",
    "        print(f\"El total a pagar es {self.venta_carrito}€\") # Se nos recuerda el importe total de nuestra compra\n",
    "        \n",
    "        while True: # Bucle que nos mantiene insertando una cantidad adecuada para el pago\n",
    "            \n",
    "            while True: # Bucle que nos mantiene insertando un caracter válido para procesar el pago \n",
    "                try: # try/except que evalúa si se está ingresando un caracter válido\n",
    "                    pago = float(input(\"Ingresa la cantidad total.\"))\n",
    "\n",
    "                    break #En el caso de que el importe introducido sea un valor numérico salimos del bucle while\n",
    "\n",
    "                except ValueError: #En caso de que hayamos metido un valor no numérico nos indicará el error y nos mantendremos en el bucle\n",
    "                    print(\"Introduce una cantidad válida.\")\n",
    "        \n",
    "        \n",
    "            if pago == self.venta_carrito: # Si el importe introducido es igual al total de nuestro carrito...\n",
    "                \n",
    "                print(f\"Has introducido {pago}€, pago completado con éxito.\")\n",
    "            \n",
    "                break #... el pago se da por procesado y se rompe el bucle\n",
    "\n",
    "            elif pago > self.venta_carrito: # En el caso de que el importe sea mayor....\n",
    "\n",
    "                print(f\"Has introducido {pago}€. Se te devuelven {pago - self.venta_carrito}€.\")\n",
    "\n",
    "                break #...nos devuelve el sobrante y rompe el bucle\n",
    "\n",
    "            else:# Si introducimos un importe menor nos devuelve al bucle.\n",
    "                print(f\"Has introducido {pago}€, la cantidad es insuficiente, faltan {self.venta_carrito - pago}€. Introduce el importe concreto.\")\n",
    "\n",
    "            \n",
    "   \n"
   ]
  },
  {
   "cell_type": "code",
   "execution_count": 9,
   "metadata": {},
   "outputs": [],
   "source": [
    "tienda = TiendaOnline()"
   ]
  },
  {
   "cell_type": "code",
   "execution_count": 10,
   "metadata": {},
   "outputs": [
    {
     "name": "stdout",
     "output_type": "stream",
     "text": [
      "El producto camisas no estaba en el inventario, ha sido agregado. Hay 5 unidades.\n",
      "El producto abrigos no estaba en el inventario, ha sido agregado. Hay 30 unidades.\n",
      "El producto camisas ya está en el inventario. Se ha actualizado la cantidad, se han añadido 200 unidades.\n",
      "El producto zapatos no estaba en el inventario, ha sido agregado. Hay 40 unidades.\n",
      "El producto pantalones no estaba en el inventario, ha sido agregado. Hay 120 unidades.\n",
      "El producto vestidos no estaba en el inventario, ha sido agregado. Hay 800 unidades.\n"
     ]
    }
   ],
   "source": [
    "tienda.agregar_producto(\"camisas\", 15, 5)\n",
    "tienda.agregar_producto(\"abrigos\", 80, 30)\n",
    "tienda.agregar_producto(\"camisas\", 15, 200)\n",
    "tienda.agregar_producto(\"zapatos\", 30, 40)\n",
    "tienda.agregar_producto(\"pantalones\", 25, 120)\n",
    "tienda.agregar_producto(\"vestidos\", 20, 800)\n"
   ]
  },
  {
   "cell_type": "code",
   "execution_count": 11,
   "metadata": {},
   "outputs": [
    {
     "name": "stdout",
     "output_type": "stream",
     "text": [
      "      -----------CATÁLOGO-----------\n",
      "camisas → 15€. 205 unidades disponibles.\n",
      "abrigos → 80€. 30 unidades disponibles.\n",
      "zapatos → 30€. 40 unidades disponibles.\n",
      "pantalones → 25€. 120 unidades disponibles.\n",
      "vestidos → 20€. 800 unidades disponibles.\n",
      "........................................\n",
      "\n"
     ]
    }
   ],
   "source": [
    "tienda.ver_inventario()"
   ]
  },
  {
   "cell_type": "code",
   "execution_count": 12,
   "metadata": {},
   "outputs": [
    {
     "name": "stdout",
     "output_type": "stream",
     "text": [
      "{'Nombre': 'vestidos', 'Precio': 20, 'Cantidad': 800}\n"
     ]
    }
   ],
   "source": [
    "tienda.buscar_producto(\"vestidos\")"
   ]
  },
  {
   "cell_type": "code",
   "execution_count": 4,
   "metadata": {},
   "outputs": [
    {
     "name": "stdout",
     "output_type": "stream",
     "text": [
      "{'Nombre': 'camisas', 'Precio': 15, 'Cantidad': 205}\n",
      "El producto chaleco no está en la tienda, agrégalo para que conste en la búsqueda.\n"
     ]
    }
   ],
   "source": [
    "tienda.buscar_producto(\"camisas\")\n",
    "tienda.buscar_producto(\"chaleco\")"
   ]
  },
  {
   "cell_type": "code",
   "execution_count": 5,
   "metadata": {},
   "outputs": [
    {
     "name": "stdout",
     "output_type": "stream",
     "text": [
      "El producto vestidos ha sido eliminado del inventario.\n"
     ]
    }
   ],
   "source": [
    "tienda.eliminar_producto(\"vestidos\")"
   ]
  },
  {
   "cell_type": "code",
   "execution_count": 6,
   "metadata": {},
   "outputs": [
    {
     "name": "stdout",
     "output_type": "stream",
     "text": [
      "{'Nombre': 'camisas', 'Precio': 15, 'Cantidad': 205}\n",
      "El producto chaleco no está en la tienda, agrégalo para que conste en la búsqueda.\n"
     ]
    }
   ],
   "source": [
    "tienda.buscar_producto(\"camisas\")\n",
    "tienda.buscar_producto(\"chaleco\")"
   ]
  },
  {
   "cell_type": "code",
   "execution_count": 7,
   "metadata": {},
   "outputs": [
    {
     "name": "stdout",
     "output_type": "stream",
     "text": [
      "El producto camisas se ha actualizado con 140 unidades, ahora hay 345 unidades.\n",
      "El producto abrigos se ha actualizado con 380 unidades, ahora hay 410 unidades.\n",
      "El producto chaleco no está en la tienda, agrégalo para poder actualizarlo.\n"
     ]
    }
   ],
   "source": [
    "tienda.actualizar_stock(\"camisas\",140)\n",
    "tienda.actualizar_stock(\"abrigos\", 380)\n",
    "tienda.actualizar_stock(\"chaleco\", 40)\n"
   ]
  },
  {
   "cell_type": "code",
   "execution_count": 8,
   "metadata": {},
   "outputs": [
    {
     "name": "stdout",
     "output_type": "stream",
     "text": [
      "Tienes 345 unidades de camisas a 15€, por lo que suma 5175€.\n",
      "Tienes 410 unidades de abrigos a 80€, por lo que suma 32800€.\n",
      "Tienes 40 unidades de zapatos a 30€, por lo que suma 1200€.\n",
      "Tienes 120 unidades de pantalones a 25€, por lo que suma 3000€.\n",
      "El total del inventario es 42175€.\n"
     ]
    }
   ],
   "source": [
    "tienda.calcular_valor_inventario()"
   ]
  },
  {
   "cell_type": "code",
   "execution_count": 9,
   "metadata": {},
   "outputs": [
    {
     "name": "stdout",
     "output_type": "stream",
     "text": [
      "      -----------CATÁLOGO-----------\n",
      "camisas → 15€. 345 unidades disponibles.\n",
      "abrigos → 80€. 410 unidades disponibles.\n",
      "zapatos → 30€. 40 unidades disponibles.\n",
      "pantalones → 25€. 120 unidades disponibles.\n",
      "........................................\n",
      "\n"
     ]
    }
   ],
   "source": [
    "tienda.ver_inventario()\n"
   ]
  },
  {
   "cell_type": "code",
   "execution_count": 18,
   "metadata": {},
   "outputs": [
    {
     "name": "stdout",
     "output_type": "stream",
     "text": [
      "      -----------CATÁLOGO-----------\n",
      "camisas → 15€. 344 unidades disponibles.\n",
      "abrigos → 80€. 410 unidades disponibles.\n",
      "zapatos → 30€. 40 unidades disponibles.\n",
      "pantalones → 25€. 119 unidades disponibles.\n",
      "........................................\n",
      "\n",
      "*No tenemos suficiente stock de este producto*\n",
      "Has añadido 2 de zapatos al carrito.\n",
      "El producto zapatos ya estaba en el carrito, hemos actualizado la cantidad a 17 unidades.\n",
      "El producto pantalones ya estaba en el carrito, hemos actualizado la cantidad a 31 unidades.\n",
      "\n",
      "*********************************************\n",
      "      -----------CARRITO-----------\n",
      "Tienes 1 unidades de camisas, suma 15€.\n",
      "Tienes 31 unidades de pantalones, suma 775€.\n",
      "Tienes 17 unidades de zapatos, suma 510€.\n",
      "Total a pagar 1300€.\n",
      "\n",
      "*********************************************\n",
      "\n",
      "Gracias por tu compra.\n"
     ]
    }
   ],
   "source": [
    "tienda.realizar_compra()"
   ]
  },
  {
   "cell_type": "code",
   "execution_count": 11,
   "metadata": {},
   "outputs": [
    {
     "name": "stdout",
     "output_type": "stream",
     "text": [
      "      -----------CATÁLOGO-----------\n",
      "camisas → 15€. 344 unidades disponibles.\n",
      "abrigos → 80€. 410 unidades disponibles.\n",
      "zapatos → 30€. 40 unidades disponibles.\n",
      "pantalones → 25€. 119 unidades disponibles.\n",
      "........................................\n",
      "\n"
     ]
    }
   ],
   "source": [
    "tienda.ver_inventario()\n"
   ]
  },
  {
   "cell_type": "code",
   "execution_count": 12,
   "metadata": {},
   "outputs": [
    {
     "name": "stdout",
     "output_type": "stream",
     "text": [
      "      -----------CARRITO-----------\n",
      "Tienes 1 unidades de camisas, suma 15€.\n",
      "Tienes 1 unidades de pantalones, suma 25€.\n",
      "Total a pagar 40€.\n"
     ]
    }
   ],
   "source": [
    "tienda.ver_carrito()"
   ]
  },
  {
   "cell_type": "code",
   "execution_count": 19,
   "metadata": {},
   "outputs": [
    {
     "name": "stdout",
     "output_type": "stream",
     "text": [
      "      -----------CARRITO-----------\n",
      "Tienes 1 unidades de camisas, suma 15€.\n",
      "Tienes 31 unidades de pantalones, suma 775€.\n",
      "Tienes 17 unidades de zapatos, suma 510€.\n",
      "Total a pagar 1300€.\n",
      "\n",
      "*********************************************\n",
      "\n",
      "El total a pagar es 1300€\n",
      "Has introducido 1200.0€, la cantidad es insuficiente, faltan 100.0€. Introduce el importe concreto.\n",
      "Has introducido 100.0€, la cantidad es insuficiente, faltan 1200.0€. Introduce el importe concreto.\n",
      "Has introducido 1400.0€. Se te devuelven 100.0€.\n"
     ]
    }
   ],
   "source": [
    "tienda.proceso_pago()"
   ]
  },
  {
   "cell_type": "code",
   "execution_count": 14,
   "metadata": {},
   "outputs": [
    {
     "name": "stdout",
     "output_type": "stream",
     "text": [
      "El cliente Pepita Flores ha sido incluido a nuestra base de datos junto con su mail pf@pepita.com.\n",
      "El cliente Armando Guerra ha sido incluido a nuestra base de datos junto con su mail ag@guerra.com.\n",
      "Pepita Flores ya está en la base de datos de clientes.\n"
     ]
    }
   ],
   "source": [
    "tienda.agregar_cliente(\"Pepita Flores\", \"pf@pepita.com\")\n",
    "tienda.agregar_cliente(\"Armando Guerra\", \"ag@guerra.com\")\n",
    "tienda.agregar_cliente(\"Pepita Flores\", \"pf@pepita.com\")"
   ]
  },
  {
   "cell_type": "code",
   "execution_count": 15,
   "metadata": {},
   "outputs": [
    {
     "name": "stdout",
     "output_type": "stream",
     "text": [
      "          -----------CLIENTES-----------\n",
      "Cliente: ('Pepita Flores', 'pf@pepita.com')\n",
      "Cliente: ('Armando Guerra', 'ag@guerra.com')\n"
     ]
    }
   ],
   "source": [
    "tienda.ver_clientes()"
   ]
  },
  {
   "cell_type": "code",
   "execution_count": null,
   "metadata": {},
   "outputs": [],
   "source": []
  }
 ],
 "metadata": {
  "kernelspec": {
   "display_name": "base",
   "language": "python",
   "name": "python3"
  },
  "language_info": {
   "codemirror_mode": {
    "name": "ipython",
    "version": 3
   },
   "file_extension": ".py",
   "mimetype": "text/x-python",
   "name": "python",
   "nbconvert_exporter": "python",
   "pygments_lexer": "ipython3",
   "version": "3.12.7"
  }
 },
 "nbformat": 4,
 "nbformat_minor": 2
}
