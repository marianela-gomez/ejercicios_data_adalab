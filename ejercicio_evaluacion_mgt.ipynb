{
 "cells": [
  {
   "cell_type": "markdown",
   "metadata": {},
   "source": [
    "# Ejercicio (parte obligatoria)"
   ]
  },
  {
   "cell_type": "markdown",
   "metadata": {},
   "source": [
    "Creación de la clase TiendaOnline:"
   ]
  },
  {
   "cell_type": "code",
   "execution_count": 1,
   "metadata": {},
   "outputs": [],
   "source": [
    "\n",
    "class TiendaOnline:\n",
    "    \n",
    "    \"\"\"Esta clase permite al usuario crear una tienda online. \n",
    "    \n",
    "    El usuario podrá llevar un regsitro del inventario disponible, así como modificarlo en función de las nuevas compras o ventas.\"\"\"\n",
    "    \n",
    "    def __init__(self, ventas_totales = 0):\n",
    "        \n",
    "        self.inventario = [] #lista de diccionarios {\"nombre\": str, \"precio\": int, \"cantidad\": int}\n",
    "        \n",
    "        self.ventas_totales = ventas_totales\n",
    "        \n",
    "        # Añadir aquí la lista productos puede ser útil (se repite en varios métodos) \n",
    "        # Uso la lista productos porque si se hace la iteración dentro del bucle for que recorre el inventario, comprueba cada diccionario y ejecuta la acción para cada uno. \n",
    "        # Esto hace que agregue directamente algo aunque ya exista. \n",
    "        \n",
    "    def agregar_producto(self, nombre, precio, cantidad): \n",
    "        \n",
    "        \"\"\"Si el producto ya existe, actualiza la cantidad.\n",
    "            Si no, agrega un nuevo producto.\"\"\"\n",
    "        \n",
    "        if len(self.inventario) > 0: # Comprueba si la lista inventario está vacía y, si lo está, agrega directamente el nuevo producto.\n",
    "            \n",
    "            productos = [self.inventario[i][\"nombre\"] for i in range(len(self.inventario))] #Creando esta variable es posible ver si un producto existe dentro del inventario.\n",
    "            \n",
    "            if nombre not in productos:  #Si el nombre no está en la lista productos, directamente lo agrega.\n",
    "                    \n",
    "                self.inventario.append({\"nombre\": nombre, \"precio\": precio, \"cantidad\": cantidad})\n",
    "            \n",
    "            else: #Si el nombre existe, itera sobre la lista de diccionarios y actualiza la cantidad (siempre y cuando el precio sea el mismo) \n",
    "            \n",
    "                for producto in self.inventario:\n",
    "                \n",
    "                    if producto[\"nombre\"] == nombre and producto[\"precio\"] == precio:\n",
    "                    \n",
    "                        producto[\"cantidad\"] += cantidad\n",
    "\n",
    "                    # Aquí se podría contemplar añadir una acción en caso de que el precio no coincida. Por ejemplo, preguntar al usuario si quiere actualizarlo al nuevo valor o no.\n",
    "        else:\n",
    "            self.inventario.append({\"nombre\": nombre, \"precio\": precio, \"cantidad\": cantidad})\n",
    "    \n",
    "    def ver_inventario(self): \n",
    "    \n",
    "        \"\"\" Muestra todos los productos del inventario.\"\"\"\n",
    "    \n",
    "        for producto in self.inventario:\n",
    "            print(f\"✏️Nombre: {producto[\"nombre\"]}\\n💵Precio: ${producto[\"precio\"]}\\n📦Cantidad: {producto[\"cantidad\"]}\\n{\"=\"*50}\")\n",
    "    \n",
    "    def buscar_producto(self, nombre):\n",
    "        \n",
    "        \"\"\"  Busca el producto por su nombre y muestra detalles si se encuentra.\"\"\"\n",
    "        \n",
    "        \n",
    "        for producto in self.inventario:\n",
    "            \n",
    "            if producto[\"nombre\"] == nombre:\n",
    "                print(f\"✏️Nombre: {producto[\"nombre\"]}\\n💵Precio: ${producto[\"precio\"]}\\n📦Cantidad: {producto[\"cantidad\"]}\\n\")\n",
    "                return #Si encuentra el producto, sale.\n",
    "           \n",
    "        print(f\"{nombre} no aparece en el inventario\")\n",
    "                \n",
    "    def actualiza_stock (self, nombre, cantidad):\n",
    "        \n",
    "        \"\"\"Actualiza la cantidad de un producto existente.\n",
    "        Si no está en el inventario, muestra un mensaje.\"\"\"\n",
    "        \n",
    "        productos = [self.inventario[i][\"nombre\"] for i in range(len(self.inventario))] # Vuelvo a usar esta lista para comprobar de una vez si el producto existe en el inventario. \n",
    "            \n",
    "        if nombre not in productos:\n",
    "                    \n",
    "            print(f\"Error: {nombre} no está en el inventario\")\n",
    "            \n",
    "        else: # Si el producto está, empieza a iterar sobre inventario. \n",
    "            \n",
    "            for producto in self.inventario: \n",
    "                \n",
    "                if producto[\"nombre\"] == nombre: # Si el nombre coincide, te permite modificar la cantidad, sumando o restando.\n",
    "                \n",
    "                    operacion = str(input(\"Indica si quieres agregar (S) o quitar (R) producto:\")).lower()\n",
    "                    \n",
    "                    \"\"\" Todo este bucle puede evitarse simplemente poniendo -cantidad como parámetro en la función\"\"\"\n",
    "                \n",
    "                    if operacion == \"s\":\n",
    "                    \n",
    "                        producto[\"cantidad\"] += cantidad\n",
    "                    \n",
    "                    elif operacion == \"r\":  \n",
    "                    \n",
    "                        if producto[\"cantidad\"] >= cantidad: # Así se evita tener cantidades negativas. \n",
    "                    \n",
    "                            producto[\"cantidad\"] -= cantidad\n",
    "                        \n",
    "                        else:\n",
    "                            print(f\"No hay suficiente {nombre} en stock\")\n",
    "                            \n",
    "                    else:\n",
    "                    \n",
    "                        print(\"Introduce una opción válida\")\n",
    "                    \n",
    "    def eliminar_producto(self, nombre):\n",
    "        \n",
    "        \"\"\"Elimina un producto por nombre si existe.\n",
    "            Muestra un mensaje si no se encuentra.\"\"\"\n",
    "        \n",
    "        productos = [self.inventario[i][\"nombre\"] for i in range(len(self.inventario))] # De nuevo, así se comprueba si el producto está en el inventario.\n",
    "            \n",
    "        if nombre not in productos:\n",
    "            \n",
    "            print(f\"Error: {nombre} no está en el inventario\")\n",
    "                    \n",
    "        else: # Si el producto existe, se elimina. \n",
    "            \n",
    "            for i in range(len(self.inventario)): # Utilizando este tipo de bucle se itera por índice de la lista inventario para poder eliminar el diccionario completo. \n",
    "            \n",
    "                if nombre == self.inventario[i][\"nombre\"]:\n",
    "                \n",
    "                    self.inventario.remove(self.inventario[i])\n",
    "                    \n",
    "                    break #Si elimina un producto, el índice cambia. De esta forma, al encontrar el producto a eliminar, deja de iterar y así no da error de índice.\n",
    "    \n",
    "    def calcular_valor_invetario(self): \n",
    "        \n",
    "        \"\"\" Calcula el valor total del inventario como el sumatorio de los productos de precio x cantidad\"\"\"\n",
    "    \n",
    "        return (sum([producto[\"precio\"] * producto[\"cantidad\"] for producto in self.inventario]))  # En esta lista se almacena cada precio x cantidad por producto y se suman todos. "
   ]
  },
  {
   "cell_type": "markdown",
   "metadata": {},
   "source": [
    "## Test del código:"
   ]
  },
  {
   "cell_type": "markdown",
   "metadata": {},
   "source": [
    "En primer lugar, se crea una instancia de la clase `TiendaOnline()`:"
   ]
  },
  {
   "cell_type": "code",
   "execution_count": 2,
   "metadata": {},
   "outputs": [],
   "source": [
    "supertienda = TiendaOnline()"
   ]
  },
  {
   "cell_type": "markdown",
   "metadata": {},
   "source": [
    "Comprobemos qué atributos tiene esta clase:"
   ]
  },
  {
   "cell_type": "code",
   "execution_count": 3,
   "metadata": {},
   "outputs": [
    {
     "data": {
      "text/plain": [
       "{'inventario': [], 'ventas_totales': 0}"
      ]
     },
     "execution_count": 3,
     "metadata": {},
     "output_type": "execute_result"
    }
   ],
   "source": [
    "supertienda.__dict__"
   ]
  },
  {
   "cell_type": "markdown",
   "metadata": {},
   "source": [
    "Se quiere actualizar el inventario. Para ello, se usa el método  `agregar_producto()`"
   ]
  },
  {
   "cell_type": "code",
   "execution_count": 4,
   "metadata": {},
   "outputs": [],
   "source": [
    "supertienda.agregar_producto(\"Camisa\", 20, 40)"
   ]
  },
  {
   "cell_type": "code",
   "execution_count": 5,
   "metadata": {},
   "outputs": [
    {
     "data": {
      "text/plain": [
       "[{'nombre': 'Camisa', 'precio': 20, 'cantidad': 40}]"
      ]
     },
     "execution_count": 5,
     "metadata": {},
     "output_type": "execute_result"
    }
   ],
   "source": [
    "supertienda.inventario"
   ]
  },
  {
   "cell_type": "code",
   "execution_count": 6,
   "metadata": {},
   "outputs": [],
   "source": [
    "supertienda.agregar_producto(\"Pantalón\", 30, 30)"
   ]
  },
  {
   "cell_type": "code",
   "execution_count": 7,
   "metadata": {},
   "outputs": [
    {
     "data": {
      "text/plain": [
       "[{'nombre': 'Camisa', 'precio': 20, 'cantidad': 40},\n",
       " {'nombre': 'Pantalón', 'precio': 30, 'cantidad': 30}]"
      ]
     },
     "execution_count": 7,
     "metadata": {},
     "output_type": "execute_result"
    }
   ],
   "source": [
    "supertienda.inventario"
   ]
  },
  {
   "cell_type": "markdown",
   "metadata": {},
   "source": [
    "¿Qué ocurre si añadimos un producto que ya existe?"
   ]
  },
  {
   "cell_type": "code",
   "execution_count": 7,
   "metadata": {},
   "outputs": [],
   "source": [
    "supertienda.agregar_producto(\"Pantalón\", 30, 5)"
   ]
  },
  {
   "cell_type": "code",
   "execution_count": 8,
   "metadata": {},
   "outputs": [
    {
     "data": {
      "text/plain": [
       "[{'nombre': 'Camisa', 'precio': 20, 'cantidad': 40},\n",
       " {'nombre': 'Pantalón', 'precio': 30, 'cantidad': 35}]"
      ]
     },
     "execution_count": 8,
     "metadata": {},
     "output_type": "execute_result"
    }
   ],
   "source": [
    "supertienda.inventario"
   ]
  },
  {
   "cell_type": "markdown",
   "metadata": {},
   "source": [
    "Como vemos, el inventario se ha actualizado, sumando 5 unidades a la cantidad de Pantalón.\n",
    "\n",
    "Probemos ahora a actualizar Camisa:"
   ]
  },
  {
   "cell_type": "code",
   "execution_count": 9,
   "metadata": {},
   "outputs": [],
   "source": [
    "supertienda.agregar_producto(\"Camisa\", 20, 5)"
   ]
  },
  {
   "cell_type": "code",
   "execution_count": 10,
   "metadata": {},
   "outputs": [
    {
     "data": {
      "text/plain": [
       "[{'nombre': 'Camisa', 'precio': 20, 'cantidad': 45},\n",
       " {'nombre': 'Pantalón', 'precio': 30, 'cantidad': 35}]"
      ]
     },
     "execution_count": 10,
     "metadata": {},
     "output_type": "execute_result"
    }
   ],
   "source": [
    "supertienda.inventario"
   ]
  },
  {
   "cell_type": "markdown",
   "metadata": {},
   "source": [
    "Ahora, supongamos que queremos actualizar el stock de algún producto del inventario. Se utiliza entonces el método `actualiza_stock()`:"
   ]
  },
  {
   "cell_type": "code",
   "execution_count": 11,
   "metadata": {},
   "outputs": [
    {
     "name": "stdout",
     "output_type": "stream",
     "text": [
      "Error: Camiseta no está en el inventario\n"
     ]
    }
   ],
   "source": [
    "supertienda.actualiza_stock(\"Camiseta\", 55)"
   ]
  },
  {
   "cell_type": "markdown",
   "metadata": {},
   "source": [
    "Vaya, parece que Camiseta no está en el inventario. Probemos otra vez con algo que sí que existe, por ejemplo, Pantalón."
   ]
  },
  {
   "cell_type": "code",
   "execution_count": 12,
   "metadata": {},
   "outputs": [
    {
     "name": "stdout",
     "output_type": "stream",
     "text": [
      "No hay suficiente Pantalón en stock\n"
     ]
    }
   ],
   "source": [
    "supertienda.actualiza_stock(\"Pantalón\", 55)"
   ]
  },
  {
   "cell_type": "markdown",
   "metadata": {},
   "source": [
    "Hemos intantado eliminar 55 pantalones, pero sólo hay 35 en el inventario. Probemos eliminando menos de 35."
   ]
  },
  {
   "cell_type": "code",
   "execution_count": 13,
   "metadata": {},
   "outputs": [],
   "source": [
    "supertienda.actualiza_stock(\"Pantalón\", 20)"
   ]
  },
  {
   "cell_type": "code",
   "execution_count": 14,
   "metadata": {},
   "outputs": [
    {
     "data": {
      "text/plain": [
       "[{'nombre': 'Camisa', 'precio': 20, 'cantidad': 45},\n",
       " {'nombre': 'Pantalón', 'precio': 30, 'cantidad': 15}]"
      ]
     },
     "execution_count": 14,
     "metadata": {},
     "output_type": "execute_result"
    }
   ],
   "source": [
    "supertienda.inventario"
   ]
  },
  {
   "cell_type": "markdown",
   "metadata": {},
   "source": [
    "Y, ahora, vamos a añadir 5 camisas al inventario."
   ]
  },
  {
   "cell_type": "code",
   "execution_count": 15,
   "metadata": {},
   "outputs": [],
   "source": [
    "supertienda.actualiza_stock(\"Camisa\", 5)"
   ]
  },
  {
   "cell_type": "code",
   "execution_count": 16,
   "metadata": {},
   "outputs": [
    {
     "data": {
      "text/plain": [
       "[{'nombre': 'Camisa', 'precio': 20, 'cantidad': 50},\n",
       " {'nombre': 'Pantalón', 'precio': 30, 'cantidad': 15}]"
      ]
     },
     "execution_count": 16,
     "metadata": {},
     "output_type": "execute_result"
    }
   ],
   "source": [
    "supertienda.inventario"
   ]
  },
  {
   "cell_type": "markdown",
   "metadata": {},
   "source": [
    "Vamos a ver ahora qué ocurre si se quiere eliminar algún producto del inventario. Primero, agreguemos el producto \"Camiseta\":"
   ]
  },
  {
   "cell_type": "code",
   "execution_count": 17,
   "metadata": {},
   "outputs": [],
   "source": [
    "supertienda.agregar_producto(\"Camiseta\", 15, 25)"
   ]
  },
  {
   "cell_type": "code",
   "execution_count": 18,
   "metadata": {},
   "outputs": [
    {
     "data": {
      "text/plain": [
       "[{'nombre': 'Camisa', 'precio': 20, 'cantidad': 50},\n",
       " {'nombre': 'Pantalón', 'precio': 30, 'cantidad': 15},\n",
       " {'nombre': 'Camiseta', 'precio': 15, 'cantidad': 25}]"
      ]
     },
     "execution_count": 18,
     "metadata": {},
     "output_type": "execute_result"
    }
   ],
   "source": [
    "supertienda.inventario"
   ]
  },
  {
   "cell_type": "markdown",
   "metadata": {},
   "source": [
    "Queremos eliminar \"Camisa\" porque ya no vamos a venderlo más. Para ello, se utiliza el método `eliminar_producto()`:"
   ]
  },
  {
   "cell_type": "code",
   "execution_count": 19,
   "metadata": {},
   "outputs": [],
   "source": [
    "supertienda.eliminar_producto(\"Camisa\")"
   ]
  },
  {
   "cell_type": "code",
   "execution_count": 20,
   "metadata": {},
   "outputs": [
    {
     "data": {
      "text/plain": [
       "[{'nombre': 'Pantalón', 'precio': 30, 'cantidad': 15},\n",
       " {'nombre': 'Camiseta', 'precio': 15, 'cantidad': 25}]"
      ]
     },
     "execution_count": 20,
     "metadata": {},
     "output_type": "execute_result"
    }
   ],
   "source": [
    "supertienda.inventario"
   ]
  },
  {
   "cell_type": "markdown",
   "metadata": {},
   "source": [
    "¿Qué ocurre si intentamos eliminar algo que no está en el inventario?"
   ]
  },
  {
   "cell_type": "code",
   "execution_count": 21,
   "metadata": {},
   "outputs": [
    {
     "name": "stdout",
     "output_type": "stream",
     "text": [
      "Error: Zapato no está en el inventario\n"
     ]
    }
   ],
   "source": [
    "supertienda.eliminar_producto(\"Zapato\")"
   ]
  },
  {
   "cell_type": "markdown",
   "metadata": {},
   "source": [
    "Imaginemos ahora que queremos saber cuánto dinero en productos tenemos almacenado. Utilizaremos el método `calular_valor_inventario()`:"
   ]
  },
  {
   "cell_type": "code",
   "execution_count": 22,
   "metadata": {},
   "outputs": [
    {
     "data": {
      "text/plain": [
       "[{'nombre': 'Pantalón', 'precio': 30, 'cantidad': 15},\n",
       " {'nombre': 'Camiseta', 'precio': 15, 'cantidad': 25}]"
      ]
     },
     "execution_count": 22,
     "metadata": {},
     "output_type": "execute_result"
    }
   ],
   "source": [
    "supertienda.inventario "
   ]
  },
  {
   "cell_type": "markdown",
   "metadata": {},
   "source": [
    "El resultado debería ser:"
   ]
  },
  {
   "cell_type": "code",
   "execution_count": 23,
   "metadata": {},
   "outputs": [
    {
     "data": {
      "text/plain": [
       "825"
      ]
     },
     "execution_count": 23,
     "metadata": {},
     "output_type": "execute_result"
    }
   ],
   "source": [
    "30 * 15 + 15 * 25"
   ]
  },
  {
   "cell_type": "code",
   "execution_count": 24,
   "metadata": {},
   "outputs": [
    {
     "data": {
      "text/plain": [
       "825"
      ]
     },
     "execution_count": 24,
     "metadata": {},
     "output_type": "execute_result"
    }
   ],
   "source": [
    "supertienda.calcular_valor_invetario()"
   ]
  },
  {
   "cell_type": "markdown",
   "metadata": {},
   "source": [
    "Vamos a ver cómo queda ahora el inventario usando para ello el método `ver inventario()`:\n"
   ]
  },
  {
   "cell_type": "code",
   "execution_count": 25,
   "metadata": {},
   "outputs": [
    {
     "name": "stdout",
     "output_type": "stream",
     "text": [
      "✏️Nombre: Pantalón\n",
      "💵Precio: $30\n",
      "📦Cantidad: 15\n",
      "==================================================\n",
      "✏️Nombre: Camiseta\n",
      "💵Precio: $15\n",
      "📦Cantidad: 25\n",
      "==================================================\n"
     ]
    }
   ],
   "source": [
    "supertienda.ver_inventario()"
   ]
  },
  {
   "cell_type": "markdown",
   "metadata": {},
   "source": [
    "¿Y si queremos saber los detalles de un producto concreto?"
   ]
  },
  {
   "cell_type": "code",
   "execution_count": 26,
   "metadata": {},
   "outputs": [
    {
     "name": "stdout",
     "output_type": "stream",
     "text": [
      "Camisa no aparece en el inventario\n"
     ]
    }
   ],
   "source": [
    "supertienda.buscar_producto(\"Camisa\")"
   ]
  },
  {
   "cell_type": "markdown",
   "metadata": {},
   "source": [
    "Probemos con algún producto que sí existe:"
   ]
  },
  {
   "cell_type": "code",
   "execution_count": 27,
   "metadata": {},
   "outputs": [
    {
     "name": "stdout",
     "output_type": "stream",
     "text": [
      "✏️Nombre: Pantalón\n",
      "💵Precio: $30\n",
      "📦Cantidad: 15\n",
      "\n"
     ]
    }
   ],
   "source": [
    "supertienda.buscar_producto(\"Pantalón\")"
   ]
  },
  {
   "cell_type": "markdown",
   "metadata": {},
   "source": [
    "# BONUS"
   ]
  },
  {
   "cell_type": "markdown",
   "metadata": {},
   "source": [
    "Primero, creamos la clase TiendaOnline_2, que es clase hija de TiendaOnline."
   ]
  },
  {
   "cell_type": "code",
   "execution_count": 3,
   "metadata": {},
   "outputs": [],
   "source": [
    "class TiendaOnline_2(TiendaOnline):\n",
    "    \n",
    "    \"\"\"Esta clase permite al usuario gestionar compras y clientes de su tienda online.\"\"\"\n",
    "    \n",
    "    def __init__(self, ventas_totales=0):\n",
    "        \n",
    "        super().__init__(ventas_totales)\n",
    "        \n",
    "        self.clientes = {}\n",
    "        \n",
    "    def agrega_cliente(self, nombre, email): \n",
    "        \n",
    "        \"\"\"Agrega un cliente al diccionario de clientes con su nombre y correo electrónico.\"\"\"\n",
    "    \n",
    "        if nombre in self.clientes.keys(): #Como las keys tienen que ser únicas, comprueba si hay nombres repetidos para no modificar el existente.\n",
    "            \n",
    "            print(f\"{nombre} ya exite, elige un nombre distinto\") #También se podría dar la opción al usuario de decidir si actualizar el cliente o introducir uno nuevo. \n",
    "            \n",
    "            # Usando set_default quizás se pueda evitar hacer esto(?).\n",
    "            \n",
    "        else:\n",
    "            \n",
    "            self.clientes.update({nombre:{\"email\": email, \"compras\": []}})\n",
    "    \n",
    "    def ver_clientes(self):\n",
    "        \n",
    "        for nombre in self.clientes.keys():\n",
    "        \n",
    "            print(f\"✏️Nombre: {nombre}\\n📧Correo electrónico: {self.clientes[nombre][\"email\"]}\\n\")\n",
    "            \n",
    "\n",
    "    def realizar_compra(self):\n",
    "        \n",
    "        \"\"\"Permite a un cliente realizar una compra seleccionando productos del inventario.\"\"\"\n",
    "        \n",
    "        print(f\"Bienvenid@ a Supertienda 😊\\nEcha un vistazo a nuestro catálogo\\n\")\n",
    "\n",
    "        cliente = input(\"¡Comienza tu compra! Introduce tu nombre:\")\n",
    "\n",
    "        if cliente in self.clientes.keys():\n",
    "            \n",
    "            self.ver_inventario() # Si el usuario es cliente, muestra el inventario llamando a la función de la clase madre.\n",
    "            \n",
    "            comprando = True #Esta variable controla la compra.\n",
    "            \n",
    "            while comprando:\n",
    "                \n",
    "                articulo = (input(\"Ingresa el nombre del producto que quieras agregar al carrito:\"))\n",
    "                cantidad = int(input(\"Ingresa el número de artículos que deseas comprar:\"))\n",
    "            \n",
    "                productos = [self.inventario[i][\"nombre\"] for i in range(len(self.inventario))] #Otra vez la lista de productos permite comprobar si el artículo está en el inventario.\n",
    "                    \n",
    "                if articulo in productos:\n",
    "                    \n",
    "                    for producto in self.inventario:\n",
    "                        \n",
    "                        if articulo == producto[\"nombre\"]: #Si el artículo coincide con el nombre del producto del inventario, pregunta si el usuario quiere continuar con la compra. \n",
    "                            \n",
    "                            confirm = input(f\"Vas a comprar {cantidad} {producto[\"nombre\"]}. ¿Es correcto? S/N\").lower() \n",
    "                            \n",
    "                            if confirm == \"s\": #Si el usuario confirma, actualiza su registro de compras y el stock.\n",
    "                            \n",
    "                                self.clientes[cliente][\"compras\"].append({\"articulo\": articulo, \"cantidad\": cantidad, \"precio\": producto[\"precio\"]})\n",
    "                                \n",
    "                                self.actualiza_stock(articulo, cantidad) #Esto puede no ser muy correcto, porque pregunta si sumar o restar la cantidad y en un caso real el cliente no debería tener acceso a algo así.\n",
    "                        \n",
    "                        else:\n",
    "                            continue \n",
    "                                \n",
    "                     #Muestra el resultado de las compras del cliente\n",
    "                    print (f\"{cliente}, has gastado {sum(self.clientes[cliente][\"compras\"][i][\"cantidad\"] * self.clientes[cliente][\"compras\"][i][\"precio\"] for i in range(len(self.clientes[cliente][\"compras\"])))}€\")\n",
    "                    \n",
    "                    seguir_comprando = input(\"¿Quieres seguir comprando? S/N\").lower() #Pregunta si quieres seguir comprando.\n",
    "                    \n",
    "                    if seguir_comprando != \"s\": #En caso de no decir que sí, para el bucle de compra.\n",
    "                        \n",
    "                        comprando = False\n",
    "                    \n",
    "                else: \n",
    "                    print(f\"Aún no vendemos {articulo}\")\n",
    "                    break\n",
    "                    \n",
    "        else: \n",
    "            \n",
    "            nombre = input(\"Debes crear una cuenta de cliente. Introduce tu nombre\")\n",
    "            \n",
    "            email = input(\"Introduce tu email\")\n",
    "            \n",
    "            self.agrega_cliente(nombre, email)\n",
    "            \n",
    "            self.realizar_compra()\n",
    "    "
   ]
  },
  {
   "cell_type": "markdown",
   "metadata": {},
   "source": [
    "Veamos qué atributos tiene esta nueva clase:"
   ]
  },
  {
   "cell_type": "code",
   "execution_count": 4,
   "metadata": {},
   "outputs": [],
   "source": [
    "tiendilla = TiendaOnline_2()"
   ]
  },
  {
   "cell_type": "code",
   "execution_count": 5,
   "metadata": {},
   "outputs": [
    {
     "data": {
      "text/plain": [
       "{'inventario': [], 'ventas_totales': 0, 'clientes': {}}"
      ]
     },
     "execution_count": 5,
     "metadata": {},
     "output_type": "execute_result"
    }
   ],
   "source": [
    "tiendilla.__dict__"
   ]
  },
  {
   "cell_type": "markdown",
   "metadata": {},
   "source": [
    "Vamos a comenzar a agregar nuevos clientes con el método `agrega_cliente()`:"
   ]
  },
  {
   "cell_type": "code",
   "execution_count": 6,
   "metadata": {},
   "outputs": [],
   "source": [
    "tiendilla.agrega_cliente(\"María\", \"maria@misitio.com\")"
   ]
  },
  {
   "cell_type": "markdown",
   "metadata": {},
   "source": [
    "Comprobemos si se ha agregado con el método `ver_clientes()`:"
   ]
  },
  {
   "cell_type": "code",
   "execution_count": 7,
   "metadata": {},
   "outputs": [
    {
     "name": "stdout",
     "output_type": "stream",
     "text": [
      "✏️Nombre: María\n",
      "📧Correo electrónico: maria@misitio.com\n",
      "\n"
     ]
    }
   ],
   "source": [
    "tiendilla.ver_clientes()"
   ]
  },
  {
   "cell_type": "markdown",
   "metadata": {},
   "source": [
    "Veamos cómo podemos comprar utilziando el método `realizar_compra()`:"
   ]
  },
  {
   "cell_type": "code",
   "execution_count": null,
   "metadata": {},
   "outputs": [
    {
     "name": "stdout",
     "output_type": "stream",
     "text": [
      "Bienvenid@ a Supertienda 😊\n",
      "Echa un vistazo a nuestro catálogo\n",
      "\n"
     ]
    }
   ],
   "source": [
    "tiendilla.realizar_compra()"
   ]
  },
  {
   "cell_type": "markdown",
   "metadata": {},
   "source": [
    "Vaya, primero hay que añadir productos al inventario:"
   ]
  },
  {
   "cell_type": "code",
   "execution_count": 8,
   "metadata": {},
   "outputs": [],
   "source": [
    "tiendilla.agregar_producto(\"Pantalón\", 20, 15)"
   ]
  },
  {
   "cell_type": "code",
   "execution_count": 9,
   "metadata": {},
   "outputs": [],
   "source": [
    "tiendilla.agregar_producto(\"Camiseta\", 10, 20)"
   ]
  },
  {
   "cell_type": "code",
   "execution_count": 10,
   "metadata": {},
   "outputs": [
    {
     "data": {
      "text/plain": [
       "[{'nombre': 'Pantalón', 'precio': 20, 'cantidad': 15},\n",
       " {'nombre': 'Camiseta', 'precio': 10, 'cantidad': 20}]"
      ]
     },
     "execution_count": 10,
     "metadata": {},
     "output_type": "execute_result"
    }
   ],
   "source": [
    "tiendilla.inventario"
   ]
  },
  {
   "cell_type": "code",
   "execution_count": 11,
   "metadata": {},
   "outputs": [
    {
     "name": "stdout",
     "output_type": "stream",
     "text": [
      "Bienvenid@ a Supertienda 😊\n",
      "Echa un vistazo a nuestro catálogo\n",
      "\n",
      "✏️Nombre: Pantalón\n",
      "💵Precio: $20\n",
      "📦Cantidad: 15\n",
      "==================================================\n",
      "✏️Nombre: Camiseta\n",
      "💵Precio: $10\n",
      "📦Cantidad: 20\n",
      "==================================================\n",
      "María, has gastado 20€\n"
     ]
    }
   ],
   "source": [
    "tiendilla.realizar_compra()"
   ]
  },
  {
   "cell_type": "markdown",
   "metadata": {},
   "source": [
    "Probemos con un cliente nuevo:"
   ]
  }
 ],
 "metadata": {
  "kernelspec": {
   "display_name": "base",
   "language": "python",
   "name": "python3"
  },
  "language_info": {
   "codemirror_mode": {
    "name": "ipython",
    "version": 3
   },
   "file_extension": ".py",
   "mimetype": "text/x-python",
   "name": "python",
   "nbconvert_exporter": "python",
   "pygments_lexer": "ipython3",
   "version": "3.12.7"
  }
 },
 "nbformat": 4,
 "nbformat_minor": 2
}
